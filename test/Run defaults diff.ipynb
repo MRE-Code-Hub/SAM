{
 "cells": [
  {
   "cell_type": "code",
   "execution_count": 5,
   "id": "8fdf2b1e",
   "metadata": {},
   "outputs": [],
   "source": [
    "import json\n",
    "import os\n",
    "\n",
    "sam_path = \"C:\\\\Users\\\\bmirletz\\\\source\\\\repos\\\\sam_dev\\\\sam\\\\\"\n",
    "sam_old_path = \"C:\\\\Users\\\\bmirletz\\\\source\\\\repos\\\\SAM_old\\\\\"\n",
    "\n",
    "api_path = \"api\\\\api_autogen\\\\library\\\\defaults\\\\\""
   ]
  },
  {
   "cell_type": "code",
   "execution_count": 8,
   "id": "826e8278",
   "metadata": {},
   "outputs": [
    {
     "name": "stdout",
     "output_type": "stream",
     "text": [
      "C:\\Users\\bmirletz\\source\\repos\\sam_dev\\sam\\api\\api_autogen\\library\\defaults\\\n"
     ]
    }
   ],
   "source": [
    "new_path = sam_path + api_path\n",
    "file_list_new = []\n",
    "\n",
    "print(new_path)\n",
    "\n",
    "for root, dirs, files in os.walk(new_path):\n",
    "    for file in files:\n",
    "        file_list_new.append(root + os.sep + file)\n"
   ]
  },
  {
   "cell_type": "code",
   "execution_count": 10,
   "id": "7846714f",
   "metadata": {},
   "outputs": [
    {
     "name": "stdout",
     "output_type": "stream",
     "text": [
      "C:\\Users\\bmirletz\\source\\repos\\SAM_old\\api\\api_autogen\\library\\defaults\\\n"
     ]
    }
   ],
   "source": [
    "old_path = sam_old_path + api_path\n",
    "file_list_old = []\n",
    "\n",
    "print(old_path)\n",
    "\n",
    "for root, dirs, files in os.walk(old_path):\n",
    "    for file in files:\n",
    "        file_list_old.append(root + os.sep + file)\n",
    "        "
   ]
  },
  {
   "cell_type": "code",
   "execution_count": 29,
   "id": "f09685fa",
   "metadata": {},
   "outputs": [],
   "source": [
    "def get_flat_dict(defaults_json):\n",
    "    output = {}\n",
    "    for k, v in defaults_json.items():\n",
    "        if type(v) is dict:\n",
    "            output.update(get_flat_dict(v))\n",
    "        else:\n",
    "            output[k] = v\n",
    "    return output\n",
    "\n",
    "def file_to_flat_dict(filename):\n",
    "    with open(filename) as f:\n",
    "        defaults_json = json.load(f)\n",
    "        return get_flat_dict(defaults_json)"
   ]
  },
  {
   "cell_type": "code",
   "execution_count": 37,
   "id": "1550e2ad",
   "metadata": {},
   "outputs": [
    {
     "name": "stderr",
     "output_type": "stream",
     "text": [
      "IOPub data rate exceeded.\n",
      "The notebook server will temporarily stop sending output\n",
      "to the client in order to avoid crashing it.\n",
      "To change this limit, set the config variable\n",
      "`--NotebookApp.iopub_data_rate_limit`.\n",
      "\n",
      "Current values:\n",
      "NotebookApp.iopub_data_rate_limit=1000000.0 (bytes/sec)\n",
      "NotebookApp.rate_limit_window=3.0 (secs)\n",
      "\n"
     ]
    }
   ],
   "source": [
    "new_defaults_data = {}\n",
    "for f in file_list_new:\n",
    "    file_name = os.path.split(f)[1]\n",
    "    new_defaults_data[file_name] = file_to_flat_dict(f)\n",
    "    \n"
   ]
  },
  {
   "cell_type": "code",
   "execution_count": 39,
   "id": "01ba757e",
   "metadata": {},
   "outputs": [],
   "source": [
    "old_defaults_data = {}\n",
    "for f in file_list_old:\n",
    "    file_name = os.path.split(f)[1]\n",
    "    old_defaults_data[file_name] = file_to_flat_dict(f)"
   ]
  },
  {
   "cell_type": "code",
   "execution_count": 47,
   "id": "22f25c0f",
   "metadata": {},
   "outputs": [],
   "source": [
    "diffs = []\n",
    "for k, new_data in new_defaults_data.items():\n",
    "    if k in old_defaults_data:\n",
    "        old_data = old_defaults_data[k]\n",
    "        \n",
    "        # First, compare sets\n",
    "        new_key_set = set(new_data.keys())\n",
    "        old_key_set = set(old_data.keys())\n",
    "        \n",
    "        addtl_keys = new_key_set.difference(old_key_set)\n",
    "        \n",
    "        if (len(addtl_keys) > 0):\n",
    "            diffs.append(\"Configuration \" + k + \" has new keys \" + str(addtl_keys))\n",
    "        \n",
    "        removed_keys = old_key_set.difference(new_key_set)\n",
    "        \n",
    "        if (len(removed_keys) > 0):\n",
    "            diffs.append(\"Configuration \" + k + \" had the following keys changed or removed \" + str(removed_keys))\n",
    "        \n",
    "        all_keys = new_key_set.intersection(old_key_set)\n",
    "        \n",
    "        for key in all_keys:\n",
    "            v_new = new_data[key]\n",
    "            v_old = old_data[key]\n",
    "            \n",
    "            if type(v_new) != type(v_old):\n",
    "                diffs.append(\"In configuration \" + k + \" key \" + key + \" was \" + str(type(v_old)) + \" but is now \" + str(type(v_new)))\n",
    "            elif v_new != v_old:\n",
    "                diffs.append(\"In configuration \" + k + \" key \" + key + \" was \" + str(v_old) + \" but is now \" + str(v_new))\n",
    "\n",
    "        \n",
    "    else:\n",
    "        diffs.append(\"Configuration \" + k + \" does not exist in old data\")\n",
    "        "
   ]
  },
  {
   "cell_type": "code",
   "execution_count": 49,
   "id": "4046e9a4",
   "metadata": {},
   "outputs": [],
   "source": [
    "with open(\"version_diffs_2.2.4_to_3.0.0.txt\", \"w\") as out_file:\n",
    "    for diff in diffs:\n",
    "        out_file.write(diff + \"\\n\")"
   ]
  },
  {
   "cell_type": "code",
   "execution_count": null,
   "id": "e614cae6",
   "metadata": {},
   "outputs": [],
   "source": []
  }
 ],
 "metadata": {
  "kernelspec": {
   "display_name": "Python 3",
   "language": "python",
   "name": "python3"
  },
  "language_info": {
   "codemirror_mode": {
    "name": "ipython",
    "version": 3
   },
   "file_extension": ".py",
   "mimetype": "text/x-python",
   "name": "python",
   "nbconvert_exporter": "python",
   "pygments_lexer": "ipython3",
   "version": "3.8.10"
  }
 },
 "nbformat": 4,
 "nbformat_minor": 5
}
